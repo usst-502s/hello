{
 "cells": [
  {
   "cell_type": "markdown",
   "metadata": {},
   "source": [
    "# Python Day03 知识点复习教程\n",
    "\n",
    "本教程涵盖以下知识点：\n",
    "1. continue语句\n",
    "2. for循环\n",
    "3. 嵌套for循环\n",
    "4. 列表基础操作\n",
    "5. 列表常用函数"
   ]
  },
  {
   "cell_type": "markdown",
   "metadata": {},
   "source": [
    "## 1. continue语句\n",
    "\n",
    "### 知识点讲解\n",
    "\n",
    "`continue`语句用于跳过当前循环的剩余代码，直接进入下一次循环。"
   ]
  },
  {
   "cell_type": "code",
   "metadata": {},
   "source": [
    "# 案例：输出1-5，但跳过3\n",
    "count = 1\n",
    "while count <= 5:\n",
    "    if count == 3:\n",
    "        count += 1\n",
    "        continue  # 跳过本次循环，继续下一次\n",
    "    \n",
    "    print(count)\n",
    "    count += 1"
   ],
   "outputs": [],
   "execution_count": null
  },
  {
   "cell_type": "markdown",
   "metadata": {},
   "source": [
    "### 练习例题\n",
    "\n",
    "**题目1：** 使用while循环输出1-10之间的奇数（遇到偶数时使用continue跳过）"
   ]
  },
  {
   "cell_type": "code",
   "metadata": {},
   "source": [
    "# 请在此处编写代码\n",
    "count=0\n",
    "while count<10:\n",
    "    count+=1\n",
    "    if count%2==0:\n",
    "        continue\n",
    "    print(count,end=\" \")"
   ],
   "outputs": [],
   "execution_count": null
  },
  {
   "cell_type": "markdown",
   "metadata": {},
   "source": [
    "### 参考答案"
   ]
  },
  {
   "cell_type": "code",
   "metadata": {},
   "source": [
    "# 参考答案\n",
    "num = 1\n",
    "while num <= 10:\n",
    "    if num % 2 == 0:\n",
    "        num += 1\n",
    "        continue\n",
    "    print(num)\n",
    "    num += 1"
   ],
   "outputs": [],
   "execution_count": null
  },
  {
   "cell_type": "markdown",
   "metadata": {},
   "source": [
    "## 2. for循环\n",
    "\n",
    "### 知识点讲解\n",
    "\n",
    "for循环用于遍历可迭代对象，基本语法：\n",
    "```python\n",
    "for 变量 in 可迭代对象:\n",
    "    循环体\n",
    "```\n",
    "\n",
    "`range()`函数产生一个可迭代的整数序列：\n",
    "- `range(结束)`: 默认从0开始\n",
    "- `range(开始, 结束)`: 包含开始，不包含结束\n",
    "- `range(开始, 结束, 步长)`: 指定步长"
   ]
  },
  {
   "cell_type": "code",
   "metadata": {},
   "source": [
    "# 案例1：range(结束) - 默认从0开始\n",
    "print(\"range(4):\")\n",
    "for i in range(4):\n",
    "    print(i)\n",
    "\n",
    "print(\"-\" * 10)\n",
    "\n",
    "# 案例2：range(开始, 结束)\n",
    "print(\"range(2, 6):\")\n",
    "for i in range(2, 6):\n",
    "    print(i)\n",
    "\n",
    "print(\"-\" * 10)\n",
    "\n",
    "# 案例3：range(开始, 结束, 步长)\n",
    "print(\"range(1, 10, 3):\")\n",
    "for i in range(1, 10, 3):\n",
    "    print(i)"
   ],
   "outputs": [],
   "execution_count": null
  },
  {
   "cell_type": "markdown",
   "metadata": {},
   "source": [
    "### 练习例题\n",
    "\n",
    "**题目2：** 使用for循环打印以下序列：\n",
    "- 0 2 4 6 8 10\n",
    "- -1 -2 -3 -4 -5"
   ]
  },
  {
   "cell_type": "code",
   "metadata": {},
   "source": [
    "# 请在此处编写代码\n",
    "for i in range(0,11,2):\n",
    "    print(i,end=\" \")\n",
    "print()\n",
    "for j in range(-1,-6,-1):\n",
    "    print(j,end=\" \")\n"
   ],
   "outputs": [],
   "execution_count": null
  },
  {
   "cell_type": "markdown",
   "metadata": {},
   "source": [
    "### 参考答案"
   ]
  },
  {
   "cell_type": "code",
   "metadata": {},
   "source": [
    "# 参考答案\n",
    "# 第一个序列\n",
    "for i in range(0, 11, 2):\n",
    "    print(i, end=\" \")\n",
    "print()  # 换行\n",
    "\n",
    "# 第二个序列\n",
    "for i in range(-1, -6, -1):\n",
    "    print(i, end=\" \")\n",
    "print()"
   ],
   "outputs": [],
   "execution_count": null
  },
  {
   "cell_type": "markdown",
   "metadata": {},
   "source": [
    "## 3. 嵌套for循环\n",
    "\n",
    "### 知识点讲解\n",
    "\n",
    "嵌套for循环的特点：\n",
    "1. 最先开始执行的是外层循环，然后才是内层\n",
    "2. 外层循环每执行1次，内层循环从头开始执行n次\n",
    "3. 外层循环结束，整个循环终止"
   ]
  },
  {
   "cell_type": "code",
   "metadata": {},
   "source": [
    "# 案例1：基本嵌套循环\n",
    "for i in range(3):\n",
    "    print(f\"外层i:{i}\")\n",
    "    for j in range(3):\n",
    "        print(f\"  内层j:{j}\")\n",
    "\n",
    "print(\"-\" * 10)\n",
    "\n",
    "# 案例2：外层控制内层\n",
    "for i in range(4):\n",
    "    print(f\"外层i:{i}\")\n",
    "    for j in range(i):\n",
    "        print(f\"  内层j:{j}\")"
   ],
   "outputs": [],
   "execution_count": null
  },
  {
   "cell_type": "markdown",
   "metadata": {},
   "source": [
    "### 练习例题\n",
    "\n",
    "**题目3：** 使用双层for循环打印以下图形：\n",
    "```\n",
    "*\n",
    "**\n",
    "***\n",
    "****\n",
    "*****\n",
    "```"
   ]
  },
  {
   "cell_type": "code",
   "metadata": {},
   "source": [
    "# 请在此处编写代码\n",
    "\n"
   ],
   "outputs": [],
   "execution_count": null
  },
  {
   "cell_type": "markdown",
   "metadata": {},
   "source": [
    "### 参考答案"
   ]
  },
  {
   "cell_type": "code",
   "metadata": {},
   "source": [
    "# 参考答案\n",
    "for i in range(1, 6):\n",
    "    for j in range(i):\n",
    "        print(\"*\", end=\"\")\n",
    "    print()  # 换行"
   ],
   "outputs": [],
   "execution_count": null
  },
  {
   "cell_type": "markdown",
   "metadata": {},
   "source": [
    "**题目4：** 使用双层for循环打印金字塔图形（用户输入行数）：\n",
    "```\n",
    "    *\n",
    "   ***\n",
    "  *****\n",
    " *******\n",
    "*********\n",
    "```"
   ]
  },
  {
   "cell_type": "code",
   "metadata": {},
   "source": [
    "# 请在此处编写代码\n",
    "\n"
   ],
   "outputs": [],
   "execution_count": null
  },
  {
   "cell_type": "markdown",
   "metadata": {},
   "source": [
    "### 参考答案"
   ]
  },
  {
   "cell_type": "code",
   "metadata": {},
   "source": [
    "# 参考答案\n",
    "line = int(input(\"请输入要打印的行数:\"))\n",
    "\n",
    "for i in range(1, line + 1):\n",
    "    # 打印空格\n",
    "    for j in range(line - i):\n",
    "        print(\" \", end=\"\")\n",
    "    \n",
    "    # 打印星星\n",
    "    for j in range(i * 2 - 1):\n",
    "        print(\"*\", end=\"\")\n",
    "    \n",
    "    print()  # 换行"
   ],
   "outputs": [],
   "execution_count": null
  },
  {
   "cell_type": "markdown",
   "metadata": {},
   "source": [
    "## 4. 列表基础操作\n",
    "\n",
    "### 知识点讲解\n",
    "\n",
    "列表是由一系列变量组成的可变序列容器：\n",
    "- **可变**：创建完成后，还可以继续修改、删除、新增\n",
    "- **序列**：有顺序\n",
    "- **容器**：装多个元素"
   ]
  },
  {
   "cell_type": "code",
   "metadata": {},
   "source": [
    "# 案例：列表的基本操作\n",
    "\n",
    "# 1. 创建列表\n",
    "list_movie = [\"昆池岩\", \"寂静岭\", \"灰姑娘\", \"咒怨\", \"封神\"]\n",
    "print(\"原始列表:\", list_movie)\n",
    "\n",
    "# 2. 访问元素\n",
    "# 正向索引：从0开始\n",
    "print(\"第一个元素:\", list_movie[0])\n",
    "# 反向索引：从-1开始\n",
    "print(\"倒数第二个元素:\", list_movie[-2])\n",
    "\n",
    "# 3. 切片操作 [开始:结束:步长]\n",
    "# 包含开始，不包含结束\n",
    "print(\"切片[1:4]:\", list_movie[1:4])\n",
    "print(\"切片[1:4:2]:\", list_movie[1:4:2])\n",
    "print(\"切片[2:]:\", list_movie[2:])\n",
    "print(\"切片[:3]:\", list_movie[:3])\n",
    "print(\"反向切片[::-1]:\", list_movie[::-1])"
   ],
   "outputs": [],
   "execution_count": null
  },
  {
   "cell_type": "code",
   "metadata": {},
   "source": [
    "# 4. 新增元素\n",
    "list_movie = [\"昆池岩\", \"寂静岭\", \"灰姑娘\", \"咒怨\", \"封神\"]\n",
    "list_movie.append(\"微笑\")  # 结尾添加1个元素\n",
    "print(\"append后:\", list_movie)\n",
    "\n",
    "list_movie.extend([\"微笑\", \"不微笑\"])  # 结尾添加多个元素\n",
    "print(\"extend后:\", list_movie)\n",
    "\n",
    "list_movie.insert(3, \"嘻嘻\")  # 指定位置插入\n",
    "print(\"insert后:\", list_movie)"
   ],
   "outputs": [],
   "execution_count": null
  },
  {
   "cell_type": "code",
   "metadata": {},
   "source": [
    "# 5. 修改元素\n",
    "list_movie[8] = 666\n",
    "print(\"修改后:\", list_movie)\n",
    "\n",
    "# 6. 删除元素\n",
    "del list_movie[2]  # 删除指定位置\n",
    "print(\"del后:\", list_movie)\n",
    "\n",
    "list_movie.remove(\"微笑\")  # 删除第一个匹配到的值\n",
    "print(\"remove后:\", list_movie)\n",
    "\n",
    "# 7. 遍历列表\n",
    "print(\"遍历列表:\")\n",
    "for item in list_movie:\n",
    "    print(item)"
   ],
   "outputs": [],
   "execution_count": null
  },
  {
   "cell_type": "markdown",
   "metadata": {},
   "source": [
    "### 练习例题\n",
    "\n",
    "**题目5：** 给定城市列表 `city_list = [\"北京\", \"天津\", \"杭州\", \"广州\", \"山西\", \"山东\"]`，使用切片操作完成以下任务：\n",
    "- 打印出 \"杭州\" 和 [\"杭州\"]\n",
    "- 打印 [\"杭州\", \"广州\", \"山西\"] （用两种方式）\n",
    "- 打印 [\"北京\", \"杭州\", \"山西\"] （用两种方式）\n",
    "- 打印 [\"广州\", \"杭州\", \"天津\"]"
   ]
  },
  {
   "cell_type": "code",
   "metadata": {},
   "source": [
    "# 请在此处编写代码\n",
    "city_list = [\"北京\", \"天津\", \"杭州\", \"广州\", \"山西\", \"山东\"]\n",
    "\n",
    "print(city_list[2])\n",
    "print(city_list[2:3])\n",
    "print(city_list[2:5])\n",
    "print(city_list[2:5:1])\n",
    "print(city_list[::2])\n",
    "\n",
    "print(city_list[3:0:-1])"
   ],
   "outputs": [],
   "execution_count": null
  },
  {
   "cell_type": "markdown",
   "metadata": {},
   "source": [
    "### 参考答案"
   ]
  },
  {
   "cell_type": "code",
   "metadata": {},
   "source": [
    "# 参考答案\n",
    "city_list = [\"北京\", \"天津\", \"杭州\", \"广州\", \"山西\", \"山东\"]\n",
    "\n",
    "# 打印 \"杭州\" 和 [\"杭州\"]\n",
    "print(city_list[2], city_list[2:3])\n",
    "\n",
    "# 打印 [\"杭州\", \"广州\", \"山西\"] 两种方式\n",
    "print(city_list[2:5])\n",
    "print(city_list[2:-1])\n",
    "\n",
    "# 打印 [\"北京\", \"杭州\", \"山西\"] 两种方式\n",
    "print(city_list[::2])\n",
    "print(city_list[-6:-1:2])\n",
    "\n",
    "# 打印 [\"广州\", \"杭州\", \"天津\"]\n",
    "print(city_list[3:0:-1])"
   ],
   "outputs": [],
   "execution_count": null
  },
  {
   "cell_type": "markdown",
   "metadata": {},
   "source": [
    "**题目6：** 八大行星操作\n",
    "\n",
    "八大行星：\"水星\" \"金星\" \"地球\" \"火星\" \"木星\" \"土星\" \"天王星\" \"海王星\"\n",
    "\n",
    "任务：\n",
    "1. 创建列表存储4个行星: \"水星\" \"金星\" \"火星\" \"木星\"\n",
    "2. 插入剩余的行星\n",
    "3. 打印距离太阳最近和最远的行星\n",
    "4. 打印太阳到地球之间的行星\n",
    "5. 删除 \"海王星\" 和第四个行星\n",
    "6. 倒序打印所有行星"
   ]
  },
  {
   "cell_type": "code",
   "metadata": {},
   "source": [
    "# 请在此处编写代码\n",
    "\n"
   ],
   "outputs": [],
   "execution_count": null
  },
  {
   "cell_type": "markdown",
   "metadata": {},
   "source": [
    "### 参考答案"
   ]
  },
  {
   "cell_type": "code",
   "metadata": {},
   "source": [
    "# 参考答案\n",
    "# 1. 创建列表\n",
    "list_plan = [\"水星\", \"金星\", \"火星\", \"木星\"]\n",
    "\n",
    "# 2. 插入剩余的行星\n",
    "list_plan.insert(2, \"地球\")\n",
    "list_plan.extend([\"土星\", \"天王星\", \"海王星\"])\n",
    "\n",
    "# 3. 打印距离太阳最近和最远的行星\n",
    "print(\"最近和最远:\", list_plan[0], list_plan[-1])\n",
    "\n",
    "# 4. 打印太阳到地球之间的行星\n",
    "print(\"太阳到地球之间:\", list_plan[:2])\n",
    "\n",
    "# 5. 删除 \"海王星\" 和第四个行星\n",
    "del list_plan[3]\n",
    "list_plan.remove(\"海王星\")\n",
    "\n",
    "# 6. 倒序打印所有行星\n",
    "print(\"倒序打印:\")\n",
    "for item in list_plan[::-1]:\n",
    "    print(item)"
   ],
   "outputs": [],
   "execution_count": null
  },
  {
   "cell_type": "markdown",
   "metadata": {},
   "source": [
    "## 5. 列表常用函数\n",
    "\n",
    "### 知识点讲解\n",
    "\n",
    "列表的常用函数：\n",
    "- `len()`: 获取列表长度\n",
    "- `max()`: 获取最大值\n",
    "- `min()`: 获取最小值\n",
    "- `sum()`: 求和\n",
    "- `sort()`: 排序（升序）"
   ]
  },
  {
   "cell_type": "code",
   "metadata": {},
   "source": [
    "# 案例：列表常用函数\n",
    "list_num = [1, 11, 5, 3, 6, 2]\n",
    "\n",
    "print(\"长度:\", len(list_num))\n",
    "print(\"最大值:\", max(list_num))\n",
    "print(\"最小值:\", min(list_num))\n",
    "print(\"求和:\", sum(list_num))\n",
    "\n",
    "# 排序\n",
    "list_num.sort()\n",
    "print(\"排序后:\", list_num)"
   ],
   "outputs": [],
   "execution_count": null
  },
  {
   "cell_type": "markdown",
   "metadata": {},
   "source": [
    "### 练习例题\n",
    "\n",
    "**题目7：** 找出列表中的最大值和最小值\n",
    "\n",
    "要求：\n",
    "- 不允许使用max和min函数\n",
    "- 需要考虑空列表的情况\n",
    "- 列表为空需要提示\n",
    "- 使用假设法"
   ]
  },
  {
   "cell_type": "code",
   "metadata": {},
   "source": [
    "# 请在此处编写代码\n",
    "list_num = [8, 1, 2, 3, 7, 9]\n",
    "\n",
    "if not list_num:\n",
    "    print(\"是空列表\")\n",
    "else:\n",
    "    "
   ],
   "outputs": [],
   "execution_count": null
  },
  {
   "cell_type": "markdown",
   "metadata": {},
   "source": [
    "### 参考答案"
   ]
  },
  {
   "cell_type": "code",
   "metadata": {},
   "source": [
    "# 参考答案\n",
    "list_num = [8, 1, 2, 3, 7, 9]\n",
    "\n",
    "# 检查是否为空列表\n",
    "if not list_num:\n",
    "    print(\"是空列表\")\n",
    "else:\n",
    "    # 假设法：假设第一个值是最大/最小值\n",
    "    max_val = list_num[0]\n",
    "    min_val = list_num[0]\n",
    "    \n",
    "    for item in list_num:\n",
    "        # 如果item比最大值还大，item就是最大\n",
    "        if item > max_val:\n",
    "            max_val = item\n",
    "        # 如果item比最小值还小，item就是最小\n",
    "        elif item < min_val:\n",
    "            min_val = item\n",
    "    \n",
    "    print(f\"最大值:{max_val},最小值:{min_val}\")"
   ],
   "outputs": [],
   "execution_count": null
  },
  {
   "cell_type": "markdown",
   "metadata": {},
   "source": [
    "**题目8：** 删除列表中的偶数\n",
    "\n",
    "要求：\n",
    "- 不能在遍历原列表时删除元素\n",
    "- 提供两种解决方案"
   ]
  },
  {
   "cell_type": "code",
   "metadata": {},
   "source": [
    "# 请在此处编写代码\n",
    "list_num = [1, [2, 10], 5, 3, 8]\n",
    "copy_num=list_num[:]\n",
    "print(list_num,copy_num)\n",
    "list_num[1][0]=100\n",
    "print(list_num,copy_num)"
   ],
   "outputs": [],
   "execution_count": null
  },
  {
   "cell_type": "markdown",
   "metadata": {},
   "source": [
    "### 参考答案"
   ]
  },
  {
   "cell_type": "code",
   "metadata": {},
   "source": [
    "# 参考答案\n",
    "list_num = [1, 2, 10, 5, 3, 8]\n",
    "\n",
    "# 方法1：遍历副本删除\n",
    "for item in list_num[:]:  # 使用切片创建副本 浅拷贝\n",
    "    if item % 2 == 0:\n",
    "        list_num.remove(item)\n",
    "print(\"方法1结果:\", list_num)\n",
    "\n",
    "# 方法2：创建新列表\n",
    "list_num = [1, 2, 10, 5, 3, 8]  # 重置列表\n",
    "list_new = []\n",
    "for item in list_num:\n",
    "    if item % 2 != 0:  # 只保留奇数\n",
    "        list_new.append(item)\n",
    "print(\"方法2结果:\", list_new)"
   ],
   "outputs": [],
   "execution_count": null
  },
  {
   "cell_type": "markdown",
   "metadata": {},
   "source": [
    "## 综合练习\n",
    "\n",
    "### 练习1：数字反转\n",
    "\n",
    "使用while循环，在终端中输入任意位数的正整数，输出反转后的数字\n",
    "- 0 ⇒ 0\n",
    "- 100 ⇒ 1\n",
    "- 1234 ⇒ 4321"
   ]
  },
  {
   "cell_type": "code",
   "metadata": {},
   "source": [
    "# 请在此处编写代码\n",
    "\n"
   ],
   "outputs": [],
   "execution_count": null
  },
  {
   "cell_type": "markdown",
   "metadata": {},
   "source": [
    "### 参考答案"
   ]
  },
  {
   "cell_type": "code",
   "metadata": {},
   "source": [
    "# 参考答案\n",
    "num = int(input(\"请输入一个正整数:\"))\n",
    "reversed_num = 0\n",
    "\n",
    "while num > 0:\n",
    "    digit = num % 10  # 取最后一位\n",
    "    reversed_num = reversed_num * 10 + digit\n",
    "    num = num // 10  # 去掉最后一位\n",
    "\n",
    "print(f\"反转后的数字:{reversed_num}\")"
   ],
   "outputs": [],
   "execution_count": null
  },
  {
   "cell_type": "markdown",
   "metadata": {},
   "source": [
    "### 练习2：交替合并列表\n",
    "\n",
    "交替合并2个列表：\n",
    "```python\n",
    "list1 = [1, 3, 5]\n",
    "list2 = [2, 4, 6, 8]\n",
    "# 结果: [1, 2, 3, 4, 5, 6, 8]\n",
    "```"
   ]
  },
  {
   "cell_type": "code",
   "metadata": {},
   "source": [
    "# 请在此处编写代码\n",
    "list1 = [1, 3, 5]\n",
    "list2 = [2, 4, 6, 8]\n",
    "result_list=[]\n",
    "\n",
    "for i in range(max(len(list1),len(list2)):\n",
    "    if i<\n"
   ],
   "outputs": [],
   "execution_count": null
  },
  {
   "cell_type": "markdown",
   "metadata": {},
   "source": [
    "### 参考答案"
   ]
  },
  {
   "cell_type": "code",
   "metadata": {},
   "source": [
    "# 参考答案\n",
    "list1 = [1, 3, 5]\n",
    "list2 = [2, 4, 6, 8]\n",
    "result = []\n",
    "\n",
    "# 取两个列表长度的最小值\n",
    "min_len = min(len(list1), len(list2))\n",
    "\n",
    "# 交替合并\n",
    "for i in range(min_len):\n",
    "    result.append(list1[i])\n",
    "    result.append(list2[i])\n",
    "\n",
    "# 添加剩余部分\n",
    "result.extend(list1[min_len:])\n",
    "result.extend(list2[min_len:])\n",
    "\n",
    "print(\"合并结果:\", result)"
   ],
   "outputs": [],
   "execution_count": null
  },
  {
   "cell_type": "markdown",
   "metadata": {},
   "source": [
    "## 总结\n",
    "\n",
    "今天我们学习了以下知识点：\n",
    "\n",
    "1. **continue语句**：跳过当前循环，进入下一次循环\n",
    "2. **for循环**：遍历可迭代对象，range()函数的使用\n",
    "3. **嵌套for循环**：外层循环控制内层循环的执行次数\n",
    "4. **列表基础操作**：创建、访问、切片、新增、修改、删除、遍历\n",
    "5. **列表常用函数**：len()、max()、min()、sum()、sort()\n",
    "\n",
    "### 重点提示\n",
    "- 切片操作包含开始索引，不包含结束索引\\n- 删除列表元素时，不要在遍历原列表时直接删除\\n- 嵌套循环中，外层循环每执行一次，内层循环完整执行一遍\\n- range()函数的结束值不包含在生成的序列中\n",
    "\n",
    "### 预习内容\n",
    "容器：元组、字符串"
   ]
  }
 ],
 "metadata": {
  "kernelspec": {
   "display_name": "Python 3 (ipykernel)",
   "language": "python",
   "name": "python3"
  },
  "language_info": {
   "codemirror_mode": {
    "name": "ipython",
    "version": 3
   },
   "file_extension": ".py",
   "mimetype": "text/x-python",
   "name": "python",
   "nbconvert_exporter": "python",
   "pygments_lexer": "ipython3",
   "version": "3.9.13"
  }
 },
 "nbformat": 4,
 "nbformat_minor": 4
}
